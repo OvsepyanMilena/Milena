{
  "nbformat": 4,
  "nbformat_minor": 0,
  "metadata": {
    "colab": {
      "name": "Самостоятельная Овсепян",
      "provenance": []
    },
    "kernelspec": {
      "name": "python3",
      "display_name": "Python 3"
    }
  },
  "cells": [
    {
      "cell_type": "code",
      "metadata": {
        "id": "Son-Irb899M4",
        "outputId": "25361f25-7618-45ca-ffa1-3ff5faf3908f",
        "colab": {
          "base_uri": "https://localhost:8080/"
        }
      },
      "source": [
        "\n",
        "class job:\n",
        "  def __init__(self, fam, dol, okl):\n",
        "    self.fam = fam\n",
        "    self.dol = dol\n",
        "    self.okl = okl\n",
        "\n",
        "  def __del__(self):\n",
        "    print(\"удалён работник\",self.fam)\n",
        "\n",
        "  def stonks(self):\n",
        "    global a\n",
        "    for i in range(len(a)):\n",
        "      a[i].proc()\n",
        "\n",
        "  def proc(self):\n",
        "    self.okl = self.okl*1.15\n",
        "\n",
        "  def ivan(self):\n",
        "    global a\n",
        "    for i in range(len(a)):\n",
        "      a[i].engine ()\n",
        "\n",
        "  def engine(self):\n",
        "    global a\n",
        "    if len(self.fam) > 3:\n",
        "      if self.fam[:4] == \"Иван\":\n",
        "        self.dol = \"Инженер\"\n",
        "  def info(self):\n",
        "    print(\"Фамилия:self.fam\")\n",
        "    print(\"Должность:self.dol\")\n",
        "    print(\"Оклад:self.okl\")\n",
        "a = []\n",
        "for i in range(3):\n",
        "  f,d,o = input().split()\n",
        "  o = int(o)\n",
        "  a.append(job(f,d,o))\n",
        "\n",
        "a[0].stonks()\n",
        "a[0].ivan()\n",
        "for i in range(len(a)):\n",
        "  print(\"Работник по фамилии\",a[i].fam,\"на должности\",a[i].dol,\"с окладом\",a[i].okl)"
      ],
      "execution_count": 22,
      "outputs": [
        {
          "output_type": "stream",
          "text": [
            "Черняева учитель 50000\n",
            "Иванов дворник 45000\n",
            "Ковалёв врач 100000\n",
            "Работник по фамилии Черняева на должности учитель с окладом 57499.99999999999\n",
            "Работник по фамилии Иванов на должности Инженер с окладом 51749.99999999999\n",
            "Работник по фамилии Ковалёв на должности врач с окладом 114999.99999999999\n"
          ],
          "name": "stdout"
        }
      ]
    },
    {
      "cell_type": "markdown",
      "metadata": {
        "id": "_6Z8B3prHAT6"
      },
      "source": [
        ""
      ]
    }
  ]
}