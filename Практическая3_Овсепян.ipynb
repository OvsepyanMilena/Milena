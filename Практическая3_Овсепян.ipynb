{
  "nbformat": 4,
  "nbformat_minor": 0,
  "metadata": {
    "colab": {
      "name": "Практическая3_Овсепян ",
      "provenance": []
    },
    "kernelspec": {
      "name": "python3",
      "display_name": "Python 3"
    }
  },
  "cells": [
    {
      "cell_type": "markdown",
      "metadata": {
        "id": "pCm8Qpa0Wqot"
      },
      "source": [
        "# Практическая №3  Полиморфизм"
      ]
    },
    {
      "cell_type": "code",
      "metadata": {
        "colab": {
          "base_uri": "https://localhost:8080/"
        },
        "id": "vNJpSgm_WvON",
        "outputId": "7ab8431e-d477-4622-853c-0867b8b9abee"
      },
      "source": [
        "class T1:\r\n",
        "  n=10\r\n",
        "  def total(self,N):\r\n",
        "    self.total=int(self.n)+int(N)\r\n",
        "\r\n",
        "class T2:\r\n",
        "  def total(self,s):\r\n",
        "    self.total=len(str(s))\r\n",
        "\r\n",
        "t1=T1()\r\n",
        "t2=T2()\r\n",
        "\r\n",
        "t1.total(45)\r\n",
        "t2.total(45)\r\n",
        "print(t1.total)\r\n",
        "print(t2.total)"
      ],
      "execution_count": 6,
      "outputs": [
        {
          "output_type": "stream",
          "text": [
            "55\n",
            "2\n"
          ],
          "name": "stdout"
        }
      ]
    },
    {
      "cell_type": "markdown",
      "metadata": {
        "id": "LRRzeEX_YSza"
      },
      "source": [
        "# Задание 1"
      ]
    },
    {
      "cell_type": "code",
      "metadata": {
        "colab": {
          "base_uri": "https://localhost:8080/"
        },
        "id": "Cv8kre-mYK8-",
        "outputId": "eb79686f-01c9-4166-a92d-95f0ded2f708"
      },
      "source": [
        "class one:\r\n",
        "  def __init__(self,a):\r\n",
        "    self.a=a**2\r\n",
        "\r\n",
        "class two:\r\n",
        "  def __init__(self,a):\r\n",
        "    self.a=a*2\r\n",
        "\r\n",
        "a=input()\r\n",
        "a=int(a)\r\n",
        "\r\n",
        "if -100 < a < 100:\r\n",
        "  obj=one(a)\r\n",
        "else:\r\n",
        "  obj=two(a)\r\n",
        "\r\n",
        "print(obj.a)"
      ],
      "execution_count": 13,
      "outputs": [
        {
          "output_type": "stream",
          "text": [
            "120\n",
            "240\n"
          ],
          "name": "stdout"
        }
      ]
    },
    {
      "cell_type": "markdown",
      "metadata": {
        "id": "gz34Pp2-ZkRE"
      },
      "source": [
        "# Задание 2"
      ]
    },
    {
      "cell_type": "code",
      "metadata": {
        "colab": {
          "base_uri": "https://localhost:8080/"
        },
        "id": "VAOqVcpzZmk3",
        "outputId": "da86721a-8e18-478c-b5b5-8f966c6f84d4"
      },
      "source": [
        "class base:\r\n",
        "  def __init__(self,n):\r\n",
        "    self.numb=n \r\n",
        "  def out(self):\r\n",
        "    print(self.numb)\r\n",
        "\r\n",
        "class one(base):\r\n",
        "  def multi(self,m):\r\n",
        "    self.numb = m\r\n",
        "\r\n",
        "class two(base):\r\n",
        "  def inlist(self):\r\n",
        "    self.inlist=list (str (self.numb))\r\n",
        "  def out(self):\r\n",
        "    i=0\r\n",
        "    while i < len(self.inlist):\r\n",
        "      print(self.inlist[i])\r\n",
        "      i += 1\r\n",
        "\r\n",
        "obj1=one(45)\r\n",
        "obj2=two('abc')\r\n",
        "\r\n",
        "obj1.multi(2)\r\n",
        "obj1.out()\r\n",
        "\r\n",
        "obj2.inlist()\r\n",
        "obj2.out()\r\n",
        "\r\n"
      ],
      "execution_count": 22,
      "outputs": [
        {
          "output_type": "stream",
          "text": [
            "90\n",
            "a\n",
            "b\n",
            "c\n"
          ],
          "name": "stdout"
        }
      ]
    },
    {
      "cell_type": "markdown",
      "metadata": {
        "id": "Aom__jsNdqUM"
      },
      "source": [
        "# Задание 3"
      ]
    },
    {
      "cell_type": "code",
      "metadata": {
        "colab": {
          "base_uri": "https://localhost:8080/"
        },
        "id": "rpPViEINdtN6",
        "outputId": "cb03cdbc-4ee2-4e7d-a3da-13d987393ecb"
      },
      "source": [
        "class base:\r\n",
        "  def __init__(self,N):\r\n",
        "    self.numb=N\r\n",
        "  def out(self):\r\n",
        "    self.numb/=2\r\n",
        "    print(self.numb)\r\n",
        "\r\n",
        "class Subclass(base):\r\n",
        "  def out(self):\r\n",
        "    print(\"\\n----\")\r\n",
        "    base.out(self)\r\n",
        "    print(\"----\\n\")\r\n",
        "\r\n",
        "i=0\r\n",
        "while i < 10:\r\n",
        "  if 4 < i < 7:\r\n",
        "    obj=Subclass(i)\r\n",
        "  else:\r\n",
        "    obj=base(i)\r\n",
        "  i+=1\r\n",
        "  obj.out()"
      ],
      "execution_count": 24,
      "outputs": [
        {
          "output_type": "stream",
          "text": [
            "0.0\n",
            "0.5\n",
            "1.0\n",
            "1.5\n",
            "2.0\n",
            "\n",
            "----\n",
            "2.5\n",
            "----\n",
            "\n",
            "\n",
            "----\n",
            "3.0\n",
            "----\n",
            "\n",
            "3.5\n",
            "4.0\n",
            "4.5\n"
          ],
          "name": "stdout"
        }
      ]
    }
  ]
}