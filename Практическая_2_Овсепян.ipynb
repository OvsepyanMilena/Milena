{
  "nbformat": 4,
  "nbformat_minor": 0,
  "metadata": {
    "colab": {
      "name": "Практическая_2_Овсепян",
      "provenance": []
    },
    "kernelspec": {
      "name": "python3",
      "display_name": "Python 3"
    }
  },
  "cells": [
    {
      "cell_type": "code",
      "metadata": {
        "id": "OJ531Mq7aR9K",
        "outputId": "de87a104-d8d8-4bab-ce54-51b7746ebe0c",
        "colab": {
          "base_uri": "https://localhost:8080/",
          "height": 283
        }
      },
      "source": [
        "class SpaseShip:\n",
        "  def __init__(self):\n",
        "    self.hp = 100\n",
        "    self.speed = 13000\n",
        "    self.crew = 64\n",
        "    self.power_reserve = 56000\n",
        "  def __str__(self):\n",
        "    return \"spaceShip: {}; {}; {}; {}\".format(self.hp, self.speed, self.crew, self.power_reserve)\n",
        "  def draw(self):\n",
        "    print('+-|--------|-+')\n",
        "    print('+     ПП     +')\n",
        "    print('+     ПП     +')\n",
        "    print('+--П------П--+')\n",
        "class StarDesrtoyer(SpaseShip):\n",
        "  def _init__(self):\n",
        "    super().__init()\n",
        "    self.shields = 100\n",
        "    self.shields_enabled = False\n",
        "    self.weapons = [100]*15\n",
        "  def __str__(self):\n",
        "    return \"StarDesrtoyer: {}; {}\".format(self.shields,self.weapons)\n",
        "  def shields_off(self):\n",
        "    sels.shields_enabled = False\n",
        "  def hit(self):\n",
        "    if self.shields_enabled:\n",
        "      self.shields -=10\n",
        "    else:\n",
        "      self.hp -= 10\n",
        "  def draw(self):\n",
        "    print(\"       /\\       \")\n",
        "    print(\"      /  \\      \")\n",
        "    print(\"     /    \\     \")\n",
        "    print(\"    / |  | \\    \")\n",
        "    print(\"   /        \\   \")\n",
        "    print(\"  /   /..\\   \\  \")\n",
        "    print(\" /   +----+   \\ \")\n",
        "    print(\"+---+-+--+-+---+\")\n",
        "    print(\"    |_|  |_|    \")\n",
        "\n",
        "\n",
        "SpaseShip1=SpaseShip()\n",
        "StarDesrtoyer1=StarDesrtoyer()\n",
        "\n",
        "print(StarDesrtoyer1.draw())\n",
        "print(SpaseShip1.draw())"
      ],
      "execution_count": null,
      "outputs": [
        {
          "output_type": "stream",
          "text": [
            "       /\\       \n",
            "      /  \\      \n",
            "     /    \\     \n",
            "    / |  | \\    \n",
            "   /        \\   \n",
            "  /   /..\\   \\  \n",
            " /   +----+   \\ \n",
            "+---+-+--+-+---+\n",
            "    |_|  |_|    \n",
            "None\n",
            "+-|--------|-+\n",
            "+     ПП     +\n",
            "+     ПП     +\n",
            "+--П------П--+\n",
            "None\n"
          ],
          "name": "stdout"
        }
      ]
    },
    {
      "cell_type": "markdown",
      "metadata": {
        "id": "UPrhxa_9e57k"
      },
      "source": [
        "# ***Практическяа работа №2***"
      ]
    },
    {
      "cell_type": "markdown",
      "metadata": {
        "id": "rZbRYNX8geY7"
      },
      "source": [
        "# ***ЗАДАНИЕ 1***\n",
        "\n"
      ]
    },
    {
      "cell_type": "code",
      "metadata": {
        "id": "MS723JAZfHQe",
        "outputId": "349de019-b788-4413-f88d-1f4b0af5532e",
        "colab": {
          "base_uri": "https://localhost:8080/",
          "height": 87
        }
      },
      "source": [
        "class first:\n",
        "  color = \"red\"\n",
        "  def out(self):\n",
        "    print(self.color + \"!\")\n",
        "\n",
        "\n",
        "obj1=first()\n",
        "obj2=first()\n",
        "\n",
        "\n",
        "print (obj1.color)\n",
        "print (obj2.color)\n",
        "obj1.out()\n",
        "obj2.out()"
      ],
      "execution_count": null,
      "outputs": [
        {
          "output_type": "stream",
          "text": [
            "red\n",
            "red\n",
            "red!\n",
            "red!\n"
          ],
          "name": "stdout"
        }
      ]
    },
    {
      "cell_type": "markdown",
      "metadata": {
        "id": "zlv7Uoy_glhz"
      },
      "source": [
        "# ***ЗАДАНИЕ 2***"
      ]
    },
    {
      "cell_type": "code",
      "metadata": {
        "id": "4krpl_rUgTLm",
        "outputId": "6d3c88f0-e321-4f50-b828-a0e1e643ab1b",
        "colab": {
          "base_uri": "https://localhost:8080/",
          "height": 87
        }
      },
      "source": [
        "class second:\n",
        "      color=\"red\"\n",
        "      form=\"circle\"\n",
        "      def changecolor(self, newcolor):\n",
        "        self.color = newcolor\n",
        "      def changeform(self, newform):\n",
        "        self.form = newform\n",
        "\n",
        "obj1=second()\n",
        "obj2=second() \n",
        "\n",
        "print (obj1.color, obj1.form)\n",
        "print (obj2.color, obj2.form)\n",
        "\n",
        "obj1.changecolor(\"green\")\n",
        "obj2.changecolor(\"blue\")\n",
        "obj2.changeform(\"oval\")\n",
        "\n",
        "print (obj1.color, obj1.form)\n",
        "print (obj2.color, obj2.form)\n",
        "\n"
      ],
      "execution_count": null,
      "outputs": [
        {
          "output_type": "stream",
          "text": [
            "red circle\n",
            "red circle\n",
            "green circle\n",
            "blue oval\n"
          ],
          "name": "stdout"
        }
      ]
    },
    {
      "cell_type": "markdown",
      "metadata": {
        "id": "pkgFmnOpjmcb"
      },
      "source": [
        "# ***Практическая работа***"
      ]
    },
    {
      "cell_type": "markdown",
      "metadata": {
        "id": "DOtGQtgsNH-e"
      },
      "source": [
        "# ***(1)***"
      ]
    },
    {
      "cell_type": "code",
      "metadata": {
        "id": "fFDlC5tYjsc6",
        "outputId": "82ca2f9d-0a58-4b14-98db-c8ce66cbb629",
        "colab": {
          "base_uri": "https://localhost:8080/",
          "height": 123
        }
      },
      "source": [
        "class third :\n",
        "      color=\"red\"\n",
        "      form=\"circle\"\n",
        "      size=\"3\"\n",
        "      def changecolor(self, newcolor):\n",
        "        self.color = newcolor\n",
        "      def changeform(self, newform):\n",
        "        self.form = newform\n",
        "      def changesize(self, newsize):\n",
        "        self.size = newsize\n",
        "\n",
        "obj1=third()\n",
        "obj2=third() \n",
        "obj3=third()\n",
        "\n",
        "print (obj1.color, obj1.form,obj1.size)\n",
        "print (obj2.color, obj2.form, obj2.size)\n",
        "print (obj3.color, obj3.form, obj3.size)\n",
        "\n",
        "obj1.changecolor(\"green\")\n",
        "obj1.changeform(\"square\")\n",
        "obj2.changecolor(\"yellow\")\n",
        "obj2.changesize(\"4\")\n",
        "obj3.changecolor(\"blue\")\n",
        "obj3.changeform(\"oval\")\n",
        "obj3.changesize(\"6\")\n",
        "\n",
        "\n",
        "print (obj1.color, obj1.form,obj1.size)\n",
        "print (obj2.color, obj2.form, obj2.size)\n",
        "print (obj3.color, obj3.form, obj3.size)"
      ],
      "execution_count": null,
      "outputs": [
        {
          "output_type": "stream",
          "text": [
            "red circle 3\n",
            "red circle 3\n",
            "red circle 3\n",
            "green square 3\n",
            "yellow circle 4\n",
            "blue oval 6\n"
          ],
          "name": "stdout"
        }
      ]
    },
    {
      "cell_type": "markdown",
      "metadata": {
        "id": "eeXEGInWNOzQ"
      },
      "source": [
        "# ***(2)***"
      ]
    },
    {
      "cell_type": "code",
      "metadata": {
        "id": "3Uf9ZSbkNSnT",
        "outputId": "54f2ff16-49a2-4e67-a59f-d5febec53484",
        "colab": {
          "base_uri": "https://localhost:8080/",
          "height": 156
        }
      },
      "source": [
        "class Schoolchildren:\n",
        "  total=\"20\"\n",
        "  totalboys=\"9\"\n",
        "  totalgirls=\"11\"\n",
        "  def changetotal(self,newtotal):\n",
        "    self.total=newtotal\n",
        "  def changetotalboys(self,newtotalboys):\n",
        "    self.totalboys=newtotalboys\n",
        "  def changetotalgirls(self,newtotalgirls):\n",
        "    self.totalgirls=newtotalgirls\n",
        "\n",
        "obj1=Schoolchildren()\n",
        "obj2=Schoolchildren()\n",
        "\n",
        "print(obj1.total,obj1.totalboys,obj1.totalgirls)\n",
        "print(obj2.total,obj2.totalboys,obj2.totalgirls)\n",
        "\n",
        "obj1.changetotal(\"19\")\n",
        "obj1.changetotalboys(\"8\")\n",
        "obj2.changetotal(\"21\")\n",
        "obj2.changetotalgirls(\"12\")\n",
        "\n",
        "print(obj1.total,obj1.totalboys,obj1.totalgirls)\n",
        "print(obj2.total,obj2.totalboys,obj2.totalgirls)\n",
        "\n",
        "class Girl:\n",
        "  hair=\"brown\"\n",
        "  eyes=\"green\"\n",
        "  def changehair(self,newhair):\n",
        "    self.hair=newhair\n",
        "  def changeeyes(self,neweyes):\n",
        "    self.eyes=neweyes\n",
        "\n",
        "girl1=Girl()\n",
        "girl2=Girl()\n",
        "\n",
        "print(girl1.hair, girl1.eyes)\n",
        "print(girl2.hair,girl2.eyes)\n",
        "\n",
        "girl1.changehair(\"blond\")\n",
        "girl1.changeeyes(\"blue\")\n",
        "girl2.changeeyes(\"black\")\n",
        "\n",
        "print(girl1.hair, girl1.eyes)\n",
        "print(girl2.hair,girl2.eyes)\n",
        "\n",
        "\n"
      ],
      "execution_count": null,
      "outputs": [
        {
          "output_type": "stream",
          "text": [
            "20 9 11\n",
            "20 9 11\n",
            "19 8 11\n",
            "21 9 12\n",
            "brown green\n",
            "brown green\n",
            "blond blue\n",
            "brown black\n"
          ],
          "name": "stdout"
        }
      ]
    },
    {
      "cell_type": "markdown",
      "metadata": {
        "id": "kdnwl3xhOkMK"
      },
      "source": [
        "# ЗАДАНИЕ ***3*** "
      ]
    },
    {
      "cell_type": "code",
      "metadata": {
        "id": "iptG6ShfOsnd",
        "outputId": "69c66cfb-7d70-418f-aa4a-ed4d382c2c17",
        "colab": {
          "base_uri": "https://localhost:8080/",
          "height": 34
        }
      },
      "source": [
        "class YesInit:\n",
        "  def __init__(self,one,two):\n",
        "    self.fname=one\n",
        "    self.sname=two\n",
        "\n",
        "obj1=YesInit(\"Petter\", \"Ok\")\n",
        "\n",
        "print(obj1.fname, obj1.sname)\n"
      ],
      "execution_count": null,
      "outputs": [
        {
          "output_type": "stream",
          "text": [
            "Petter Ok\n"
          ],
          "name": "stdout"
        }
      ]
    },
    {
      "cell_type": "code",
      "metadata": {
        "id": "Zf26u_GQmyPU",
        "outputId": "651524de-ab7e-470e-9c01-446454e36a84",
        "colab": {
          "base_uri": "https://localhost:8080/",
          "height": 34
        }
      },
      "source": [
        "class NoInit:\n",
        "  def names(self,one,two):\n",
        "    self.fname=one\n",
        "    self.sname=two \n",
        "\n",
        "obj1=NoInit()\n",
        "obj1.names(\"Petter\", \"Ok\")\n",
        "\n",
        "print(obj1.fname, obj1.sname)"
      ],
      "execution_count": null,
      "outputs": [
        {
          "output_type": "stream",
          "text": [
            "Petter Ok\n"
          ],
          "name": "stdout"
        }
      ]
    },
    {
      "cell_type": "markdown",
      "metadata": {
        "id": "y9UCkZGpYsue"
      },
      "source": [
        "# ЗАДАНИЕ ***4***"
      ]
    },
    {
      "cell_type": "code",
      "metadata": {
        "id": "uQFnnoMIYvaY",
        "outputId": "ff4d3947-fcbd-488c-9958-f8f5d8d7f031",
        "colab": {
          "base_uri": "https://localhost:8080/",
          "height": 85
        }
      },
      "source": [
        "class YesInit:\n",
        "  def __init__(self, one=\"noname\", two = \"nonametoo\"):\n",
        "    self.fname=one \n",
        "    self.sname=two\n",
        "\n",
        "obj1=YesInit(\"Sasha\", \"Tu\")\n",
        "obj2=YesInit()\n",
        "obj3=YesInit(\"Spartak\")\n",
        "obj4=YesInit(two=\"Harry\")\n",
        "\n",
        "print(obj1.fname, obj1.sname)\n",
        "print(obj2.fname, obj2.sname)\n",
        "print(obj3.fname, obj3.sname)\n",
        "print(obj4.fname, obj4.sname)"
      ],
      "execution_count": null,
      "outputs": [
        {
          "output_type": "stream",
          "text": [
            "Sasha Tu\n",
            "noname nonametoo\n",
            "Spartak nonametoo\n",
            "noname Harry\n"
          ],
          "name": "stdout"
        }
      ]
    },
    {
      "cell_type": "markdown",
      "metadata": {
        "id": "606IXZr0OKiv"
      },
      "source": [
        ""
      ]
    },
    {
      "cell_type": "markdown",
      "metadata": {
        "id": "HbS5ucfum4nK"
      },
      "source": [
        "# ЗАДАНИЕ ***5***"
      ]
    },
    {
      "cell_type": "code",
      "metadata": {
        "id": "RUyLoKsGm-54",
        "outputId": "df8e50ab-e214-46b9-c919-29ccde6cebb0",
        "colab": {
          "base_uri": "https://localhost:8080/",
          "height": 51
        }
      },
      "source": [
        "class fruits:\n",
        "  def __init__(self,w,n=0):\n",
        "    self.what=w\n",
        "    self.numbers=n\n",
        "\n",
        "f1=fruits(\"apple\",150)\n",
        "f2=fruits(\"pineapple\")\n",
        "  \n",
        "print(f1.what,f1.numbers)\n",
        "print(f2.what,f2.numbers)\n",
        "\n"
      ],
      "execution_count": null,
      "outputs": [
        {
          "output_type": "stream",
          "text": [
            "apple 150\n",
            "pineapple 0\n"
          ],
          "name": "stdout"
        }
      ]
    },
    {
      "cell_type": "markdown",
      "metadata": {
        "id": "OQ8hP99VvuaO"
      },
      "source": [
        "# ЗАДАНИЕ 6 "
      ]
    },
    {
      "cell_type": "code",
      "metadata": {
        "id": "WOvQEHJMvqdw",
        "outputId": "aa5394ad-5520-4126-d23c-a48dbba1fe93",
        "colab": {
          "base_uri": "https://localhost:8080/",
          "height": 85
        }
      },
      "source": [
        "class Building:\n",
        "  def __init__(self,w,c, n=0):\n",
        "    self.what=w\n",
        "    self.color=c\n",
        "    self.numbers=n\n",
        "    self.mwhere(n)\n",
        "  def mwhere(self, n):\n",
        "    if n<=0:\n",
        "      self.where=\"Отсутствуют\"\n",
        "    elif 0<n<100:\n",
        "      self.where=\"малый склад\"\n",
        "    else:\n",
        "      self.where=\"основной склад\"\n",
        "  def plus(self,p):\n",
        "    self.numbers=self.numbers+p\n",
        "    self.mwhere(self.numbers)\n",
        "  def minus(self,m):\n",
        "    self.numbers=self.numbers-m\n",
        "    self.mwhere(self.numbers)\n",
        "\n",
        "m1=Building(\"Доски\", \"белые\",50)\n",
        "m2=Building(\"Доски\", \"коричневые\",300)\n",
        "m3=Building(\"кирпичи\", \"белые\")\n",
        "\n",
        "print(m1.what,m1.color,m1.where)\n",
        "print(m2.what,m2.color,m2.where)\n",
        "print(m3.what,m3.color,m3.where)\n",
        "\n",
        "m1.plus(500)\n",
        "print(m1.numbers, m1.where)\n"
      ],
      "execution_count": null,
      "outputs": [
        {
          "output_type": "stream",
          "text": [
            "Доски белые малый склад\n",
            "Доски коричневые основной склад\n",
            "кирпичи белые Отсутствуют\n",
            "550 основной склад\n"
          ],
          "name": "stdout"
        }
      ]
    },
    {
      "cell_type": "markdown",
      "metadata": {
        "id": "MUoM9LFm44FL"
      },
      "source": [
        "#***Практическая работа***\n",
        "\n",
        "\n",
        "\n"
      ]
    },
    {
      "cell_type": "code",
      "metadata": {
        "id": "fpmF8LbN5DT7",
        "outputId": "1ed88106-7ca3-463b-853f-14f7f3a0f1f1",
        "colab": {
          "base_uri": "https://localhost:8080/",
          "height": 85
        }
      },
      "source": [
        "class прямоугольник:\n",
        "    def __init__(self, ш = 1, д = 5):\n",
        "        self.ширина = ш\n",
        "        self.длина = д\n",
        "    def площадь(self):\n",
        "        return self.ширина * self.длина\n",
        " \n",
        "obj1 = прямоугольник(4, 3)\n",
        "obj2 = прямоугольник()\n",
        "obj3 = прямоугольник(2)\n",
        "obj4 = прямоугольник(д = 7)\n",
        "\n",
        "\n",
        "print(obj1.площадь())\n",
        "print(obj2.площадь())\n",
        "print(obj3.площадь())\n",
        "print(obj4.площадь())"
      ],
      "execution_count": null,
      "outputs": [
        {
          "output_type": "stream",
          "text": [
            "12\n",
            "5\n",
            "10\n",
            "7\n"
          ],
          "name": "stdout"
        }
      ]
    },
    {
      "cell_type": "markdown",
      "metadata": {
        "id": "9w5Ic7Nq6nY3"
      },
      "source": [
        "# ***ЗАДАНИЕ 7***"
      ]
    },
    {
      "cell_type": "code",
      "metadata": {
        "id": "5mydGLIE6qhY",
        "outputId": "41d98a35-4ee1-4fe1-b173-34a9f2826652",
        "colab": {
          "base_uri": "https://localhost:8080/",
          "height": 85
        }
      },
      "source": [
        "class Things:\n",
        "  def __init__(self,n,t):\n",
        "    self.namething=n\n",
        "    self.total=t\n",
        "\n",
        "t1=Things(\"table\",5)\n",
        "t2=Things(\"computer\", 7)\n",
        "\n",
        "print(t1.namething, t1.total)\n",
        "print(t2.namething, t2.total)\n",
        "\n",
        "t1.color=\"green\"\n",
        "t2.color=\"blue\"\n",
        "\n",
        "print(t1.color)\n",
        "print(t2.color)"
      ],
      "execution_count": null,
      "outputs": [
        {
          "output_type": "stream",
          "text": [
            "table 5\n",
            "computer 7\n",
            "green\n",
            "blue\n"
          ],
          "name": "stdout"
        }
      ]
    },
    {
      "cell_type": "markdown",
      "metadata": {
        "id": "LHh0bAzL-hrc"
      },
      "source": [
        "# ***ЗАДАНИЕ 8*** "
      ]
    },
    {
      "cell_type": "code",
      "metadata": {
        "id": "PUGQPUcL_1Vy",
        "outputId": "5460d009-e5bf-4a07-c668-0d2274b0f8b3",
        "colab": {
          "base_uri": "https://localhost:8080/",
          "height": 102
        }
      },
      "source": [
        "class Table:\n",
        "  def __init__(self,l,w,h):\n",
        "    self.long=l \n",
        "    self.width=w \n",
        "    self.height=h \n",
        "  def outing(self):\n",
        "    print(self.long, self.width, self.height)\n",
        "\n",
        "\n",
        "class Kitchen(Table):\n",
        "  def howplaces(self,n):\n",
        "    if n < 2:\n",
        "      print(\"It is not kitchen table\")\n",
        "    else:\n",
        "      self.places=n\n",
        "  def outplaces(self):\n",
        "    print(self.places)\n",
        "\n",
        "\n",
        "t_room1=Kitchen(2,1,0.5)  \n",
        "t_room1.outing()\n",
        "t_room1.howplaces(5)\n",
        "t_room1.outplaces()\n",
        "\n",
        "t_2=Table(1,3,0.7)\n",
        "t_2.outing()\n",
        "\n",
        "\n",
        "class Worker(Table):\n",
        "  def __init__(self,m):\n",
        "    self.material=m\n",
        "  def square(self,l,w):\n",
        "    self.square=l*w \n",
        "    print(self.square)\n",
        "    \n",
        "\n",
        "t3=Worker(\"iron\")\n",
        "t3.square(5,7)\n",
        "print(t3.material)\n",
        "\n",
        "\n"
      ],
      "execution_count": null,
      "outputs": [
        {
          "output_type": "stream",
          "text": [
            "2 1 0.5\n",
            "5\n",
            "1 3 0.7\n",
            "35\n",
            "iron\n"
          ],
          "name": "stdout"
        }
      ]
    },
    {
      "cell_type": "markdown",
      "metadata": {
        "id": "W8eAH4ugJfze"
      },
      "source": [
        "# ***Практическая работа***"
      ]
    },
    {
      "cell_type": "code",
      "metadata": {
        "id": "RkfvykqGKTF7",
        "outputId": "fd84989c-a1ff-47d5-da48-615af34f34f6",
        "colab": {
          "base_uri": "https://localhost:8080/",
          "height": 68
        }
      },
      "source": [
        "class Figure:\n",
        "  color=\"white\"\n",
        "  def changecolor(self,c):\n",
        "    self.color=c \n",
        "  \n",
        " \n",
        "class Oval(Figure):\n",
        "  def __init__(self,r):\n",
        "    self.radius=r \n",
        "obj1=Oval(10)\n",
        "\n",
        "\n",
        "class Square(Figure):\n",
        "  def __init__(self,l,w):\n",
        "    self.long=l \n",
        "    self.wight=w \n",
        "  def площадь(self):\n",
        "    return(self.long*self.wight)\n",
        "\n",
        "obj2=Square(5,9)\n",
        "obj2.changecolor(\"синего\")\n",
        "\n",
        "print(\"Радиус=\", obj1.radius)\n",
        "print(obj2.color)\n",
        "print(\"Площадь фигуры {} цвета = {}\".format(obj2.color, obj2.площадь()))"
      ],
      "execution_count": null,
      "outputs": [
        {
          "output_type": "stream",
          "text": [
            "Радиус= 10\n",
            "синего\n",
            "Площадь фигуры синего цвета = 45\n"
          ],
          "name": "stdout"
        }
      ]
    }
  ]
}