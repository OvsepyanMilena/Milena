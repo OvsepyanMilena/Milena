{
  "nbformat": 4,
  "nbformat_minor": 0,
  "metadata": {
    "colab": {
      "name": "Лаб6_Овсепян",
      "provenance": []
    },
    "kernelspec": {
      "name": "python3",
      "display_name": "Python 3"
    }
  },
  "cells": [
    {
      "cell_type": "markdown",
      "metadata": {
        "id": "9J7LunFaAbAj"
      },
      "source": [
        "# 6.2.1. Оценка сложности алгоритмов\r\n",
        "Для задач 6.2.1-6.2.7 ответьте на следующие вопросы:\r\n",
        "\r\n",
        "Что выполняет приведенная функция?\r\n",
        "\r\n",
        "Какова вычислительная сложность алгоритма (наихудшая оценка, O-нотацию)?\r\n",
        "\r\n",
        "Ответы необходимо указать в строке документации с пометкой «Алгоритм» и «Сложность» соответственно. Сложность - один из вариантов:\r\n",
        "\r\n",
        "O(1), O(N), O(log(N)), O(N log(N)) или O(N^2).\r\n",
        "считая, что N - размер входных данных."
      ]
    },
    {
      "cell_type": "code",
      "metadata": {
        "colab": {
          "base_uri": "https://localhost:8080/"
        },
        "id": "Z4gRQWtFAiGI",
        "outputId": "a3f80357-f5d2-4509-fbd7-c8129ed20e75"
      },
      "source": [
        "# Программирование на языке высокого уровня (Python).\r\n",
        "# https://www.yuripetrov.ru/edu/python\r\n",
        "# Задание task_06_02_01.\r\n",
        "#\r\n",
        "# Выполнил: Овсепян\r\n",
        "# Группа: АДЭУ-201\r\n",
        "\r\n",
        "# алгоритм располагает элементы массива от наименьшего к наибольшему\r\n",
        "\r\n",
        "\r\n",
        "def foo(a):\r\n",
        "    for i in range(len(a), 0, -1): \r\n",
        "        for j in range(1, i): #O(N)\r\n",
        "            if a[j-1] > a[j]:\r\n",
        "                a[j-1], a[j] = a[j], a[j-1] \r\n",
        "    return a\r\n",
        "\r\n",
        "#O(len(a))*O(N)*(O(1)+O(1))=2*N*O(len(a))=N*O(len(a))\r\n",
        "a = [1, 2, 3, 4, 2, 1, 3, 4, 3, 5, -2, -2, 2, -2, 65, 2, 2]\r\n",
        "foo(a)\r\n",
        "print(a)"
      ],
      "execution_count": 1,
      "outputs": [
        {
          "output_type": "stream",
          "text": [
            "[-2, -2, -2, 1, 1, 2, 2, 2, 2, 2, 3, 3, 3, 4, 4, 5, 65]\n"
          ],
          "name": "stdout"
        }
      ]
    },
    {
      "cell_type": "code",
      "metadata": {
        "colab": {
          "base_uri": "https://localhost:8080/"
        },
        "id": "M6GtmjHkApzV",
        "outputId": "cde4ccc6-d1da-4871-b8cd-32c07894a616"
      },
      "source": [
        "# Программирование на языке высокого уровня (Python).\r\n",
        "# https://www.yuripetrov.ru/edu/python\r\n",
        "# Задание task_06_02_02.\r\n",
        "#\r\n",
        "# Выполнил: Овсепян\r\n",
        "# Группа: АДЭУ-201\r\n",
        "\r\n",
        "# алгоритм разбивает число на цифры и выводит то же число\r\n",
        "# сложность O(N+1/2)\r\n",
        "\r\n",
        "def foo(i):\r\n",
        "    digits = \"0123456789\"\r\n",
        "    if i == 0: \r\n",
        "        return \"0\"\r\n",
        "    result = \"\"\r\n",
        "    while i > 0: #O(N)\r\n",
        "        result = digits[i%10] + result \r\n",
        "        i = i // 10 \r\n",
        "    return result\r\n",
        "\r\n",
        "print(foo(56))\r\n",
        "#O(1)+O(N)*(O(1)+O(1))=O(2*N+1)=O(N+1/2)"
      ],
      "execution_count": 2,
      "outputs": [
        {
          "output_type": "stream",
          "text": [
            "56\n"
          ],
          "name": "stdout"
        }
      ]
    },
    {
      "cell_type": "code",
      "metadata": {
        "colab": {
          "base_uri": "https://localhost:8080/"
        },
        "id": "PJzWwd8bBBCn",
        "outputId": "1a16ef78-cf21-4a4a-ff89-da3904cc3bdb"
      },
      "source": [
        "# Программирование на языке высокого уровня (Python).\r\n",
        "# https://www.yuripetrov.ru/edu/python\r\n",
        "# Задание task_06_02_03.\r\n",
        "#\r\n",
        "# Выполнил: Овсепян\r\n",
        "# Группа: АДЭУ-201\r\n",
        "\r\n",
        "\r\n",
        "# алгоритм находит числа в строке и складывает все цифры\r\n",
        "# Время выполнения пропорционально количеству элементов в коллекции.\r\n",
        "\r\n",
        "\r\n",
        "\r\n",
        "def foo(s):\r\n",
        "    val = 0\r\n",
        "    for c in s: #O(N)\r\n",
        "        if c.isdigit(): \r\n",
        "            val += int(c)\r\n",
        "    return val\r\n",
        "print(foo('рпрпр6рет7888'))\r\n",
        "#O(N)*(O(1)+O(1))=O(2N)=O(N)"
      ],
      "execution_count": 3,
      "outputs": [
        {
          "output_type": "stream",
          "text": [
            "37\n"
          ],
          "name": "stdout"
        }
      ]
    },
    {
      "cell_type": "code",
      "metadata": {
        "colab": {
          "base_uri": "https://localhost:8080/"
        },
        "id": "WvmcOydbBHP0",
        "outputId": "e9bc7d70-b654-4067-9c25-7519a5d799f7"
      },
      "source": [
        "# Программирование на языке высокого уровня (Python).\r\n",
        "# https://www.yuripetrov.ru/edu/python\r\n",
        "# Задание task_06_02_04.\r\n",
        "#\r\n",
        "# Выполнил: Овсепян\r\n",
        "# Группа: АДЭУ-201\r\n",
        "\r\n",
        "# алгоритм ищет числа от 1 до введенного пользователем, которые делятся только на 1 или на себя\r\n",
        "# сложность O(N+2)\r\n",
        "\r\n",
        "\r\n",
        "def foo(n):\r\n",
        "    res = []\r\n",
        "    for i in range(1, n + 1): #O(N)\r\n",
        "        divisors = 0 #O(1)\r\n",
        "        j = 2 #O(1)\r\n",
        "        while j < i and divisors == 0: \r\n",
        "            if i % j == 0: #O(1)\r\n",
        "                divisors += 1 \r\n",
        "            j += 1 #O(1)\r\n",
        "\r\n",
        "        if divisors == 0: \r\n",
        "            res.append(i) \r\n",
        "\r\n",
        "    return res\r\n",
        "print(foo(99))\r\n",
        "#(O(N)+O(1)+O(1))*((O(1)*(O(1)+O(1)+O(1))+O(1)+O(1))=O((N+2)*(3+2))=O(5*(N+2))=O(N+2)"
      ],
      "execution_count": 4,
      "outputs": [
        {
          "output_type": "stream",
          "text": [
            "[1, 2, 3, 5, 7, 11, 13, 17, 19, 23, 29, 31, 37, 41, 43, 47, 53, 59, 61, 67, 71, 73, 79, 83, 89, 97]\n"
          ],
          "name": "stdout"
        }
      ]
    },
    {
      "cell_type": "code",
      "metadata": {
        "colab": {
          "base_uri": "https://localhost:8080/"
        },
        "id": "gdsCB82MBbhW",
        "outputId": "7f4264a6-6f7f-4eac-ab09-b0f258e2cdfd"
      },
      "source": [
        "# Программирование на языке высокого уровня (Python).\r\n",
        "# https://www.yuripetrov.ru/edu/python\r\n",
        "# Задание task_06_02_05.\r\n",
        "#\r\n",
        "# Выполнил: Николаева С.Г.\r\n",
        "# Группа: адэу-201\r\n",
        "\r\n",
        "# алгоритм ищет первое четное число в списке и выводит тру, если нет, то выводит фолс\r\n",
        "# сложность O(N) - линейное время\r\n",
        "# Время выполнения пропорционально количеству элементов в коллекции.\r\n",
        "\r\n",
        "\r\n",
        "def foo(nums):\r\n",
        "    for x in nums: #O(N)\r\n",
        "        if x % 2 == 0: \r\n",
        "            return True\r\n",
        "    else:\r\n",
        "        return False\r\n",
        "print(foo([64973]))\r\n",
        "#O(N)*O(1)=O(N)"
      ],
      "execution_count": 5,
      "outputs": [
        {
          "output_type": "stream",
          "text": [
            "False\n"
          ],
          "name": "stdout"
        }
      ]
    }
  ]
}