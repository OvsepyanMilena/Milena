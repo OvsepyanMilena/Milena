{
  "nbformat": 4,
  "nbformat_minor": 0,
  "metadata": {
    "kernelspec": {
      "display_name": "Python 3",
      "language": "python",
      "name": "python3"
    },
    "language_info": {
      "codemirror_mode": {
        "name": "ipython",
        "version": 3
      },
      "file_extension": ".py",
      "mimetype": "text/x-python",
      "name": "python",
      "nbconvert_exporter": "python",
      "pygments_lexer": "ipython3",
      "version": "3.7.6"
    },
    "colab": {
      "name": "Лаб6_Овсепян",
      "provenance": [],
      "include_colab_link": true
    }
  },
  "cells": [
    {
      "cell_type": "markdown",
      "metadata": {
        "id": "view-in-github",
        "colab_type": "text"
      },
      "source": [
        "<a href=\"https://colab.research.google.com/github/OvsepyanMilena/Milena/blob/main/%D0%9B%D0%B0%D0%B16_%D0%9E%D0%B2%D1%81%D0%B5%D0%BF%D1%8F%D0%BD.ipynb\" target=\"_parent\"><img src=\"https://colab.research.google.com/assets/colab-badge.svg\" alt=\"Open In Colab\"/></a>"
      ]
    },
    {
      "cell_type": "markdown",
      "metadata": {
        "id": "tNvVw2jckrHG"
      },
      "source": [
        "# **Лабораторная работа 6**\n",
        "Методы статистического анализа данных. Проверка нормальности данных "
      ]
    },
    {
      "cell_type": "markdown",
      "metadata": {
        "id": "LGOVrBRNy0dt"
      },
      "source": [
        " **Вариант 12**"
      ]
    },
    {
      "cell_type": "markdown",
      "metadata": {
        "id": "E07loCAtk9I0"
      },
      "source": [
        "# **Загрузка и обработка данных**"
      ]
    },
    {
      "cell_type": "code",
      "metadata": {
        "id": "9TRzmKHfzav1"
      },
      "source": [
        "#importing the libraries\n",
        "import requests\n",
        "import pandas as pd\n",
        "import seaborn as sns\n",
        "import matplotlib.pyplot as plt\n",
        "from matplotlib import pyplot\n",
        "#Importing the data from the webpage into a DataFrame\n",
        "url='https://en.wikipedia.org/wiki/List_of_highest-grossing_films_in_Singapore'\n",
        "req=requests.get(url)\n",
        "data=pd.read_html(req.text)\n",
        "df=data[3]"
      ],
      "execution_count": null,
      "outputs": []
    },
    {
      "cell_type": "code",
      "metadata": {
        "id": "d3JjJ25zhbHZ"
      },
      "source": [
        "df['Gross']=df['Gross'].str.replace(r\"$\",\"\").str.replace(r\"m\",\"\").str.replace(r\".\",\"\")"
      ],
      "execution_count": null,
      "outputs": []
    },
    {
      "cell_type": "code",
      "metadata": {
        "colab": {
          "base_uri": "https://localhost:8080/",
          "height": 204
        },
        "id": "yO4ulbLhce3I",
        "outputId": "4427c5d7-2e17-47f3-8e93-9100aad9837f"
      },
      "source": [
        "df.head()"
      ],
      "execution_count": null,
      "outputs": [
        {
          "output_type": "execute_result",
          "data": {
            "text/html": [
              "<div>\n",
              "<style scoped>\n",
              "    .dataframe tbody tr th:only-of-type {\n",
              "        vertical-align: middle;\n",
              "    }\n",
              "\n",
              "    .dataframe tbody tr th {\n",
              "        vertical-align: top;\n",
              "    }\n",
              "\n",
              "    .dataframe thead th {\n",
              "        text-align: right;\n",
              "    }\n",
              "</style>\n",
              "<table border=\"1\" class=\"dataframe\">\n",
              "  <thead>\n",
              "    <tr style=\"text-align: right;\">\n",
              "      <th></th>\n",
              "      <th>Rank</th>\n",
              "      <th>Title</th>\n",
              "      <th>Studio</th>\n",
              "      <th>Gross</th>\n",
              "      <th>Language</th>\n",
              "    </tr>\n",
              "  </thead>\n",
              "  <tbody>\n",
              "    <tr>\n",
              "      <th>0</th>\n",
              "      <td>1</td>\n",
              "      <td>Spider-Man 2</td>\n",
              "      <td>Sony Pictures</td>\n",
              "      <td>525</td>\n",
              "      <td>English</td>\n",
              "    </tr>\n",
              "    <tr>\n",
              "      <th>1</th>\n",
              "      <td>2</td>\n",
              "      <td>Harry Potter and the Prisoner of Azkaban</td>\n",
              "      <td>Warner Bros. Pictures</td>\n",
              "      <td>457</td>\n",
              "      <td>English</td>\n",
              "    </tr>\n",
              "    <tr>\n",
              "      <th>2</th>\n",
              "      <td>3</td>\n",
              "      <td>The Incredibles</td>\n",
              "      <td>United International Pictures</td>\n",
              "      <td>367</td>\n",
              "      <td>English</td>\n",
              "    </tr>\n",
              "    <tr>\n",
              "      <th>3</th>\n",
              "      <td>4</td>\n",
              "      <td>The Day After Tomorrow</td>\n",
              "      <td>20th Century Fox</td>\n",
              "      <td>313</td>\n",
              "      <td>English</td>\n",
              "    </tr>\n",
              "    <tr>\n",
              "      <th>4</th>\n",
              "      <td>5</td>\n",
              "      <td>Kung Fu Hustle</td>\n",
              "      <td>Columbia Pictures</td>\n",
              "      <td>296</td>\n",
              "      <td>Chinese</td>\n",
              "    </tr>\n",
              "  </tbody>\n",
              "</table>\n",
              "</div>"
            ],
            "text/plain": [
              "   Rank                                     Title  ... Gross Language\n",
              "0     1                              Spider-Man 2  ...   525  English\n",
              "1     2  Harry Potter and the Prisoner of Azkaban  ...   457  English\n",
              "2     3                           The Incredibles  ...   367  English\n",
              "3     4                    The Day After Tomorrow  ...   313  English\n",
              "4     5                            Kung Fu Hustle  ...   296  Chinese\n",
              "\n",
              "[5 rows x 5 columns]"
            ]
          },
          "metadata": {
            "tags": []
          },
          "execution_count": 8
        }
      ]
    },
    {
      "cell_type": "code",
      "metadata": {
        "colab": {
          "base_uri": "https://localhost:8080/"
        },
        "id": "jOz00xoZdRDn",
        "outputId": "4d48823e-226d-4f4e-df6a-8525ac674a88"
      },
      "source": [
        "df.info()"
      ],
      "execution_count": null,
      "outputs": [
        {
          "output_type": "stream",
          "text": [
            "<class 'pandas.core.frame.DataFrame'>\n",
            "RangeIndex: 10 entries, 0 to 9\n",
            "Data columns (total 5 columns):\n",
            " #   Column    Non-Null Count  Dtype \n",
            "---  ------    --------------  ----- \n",
            " 0   Rank      10 non-null     int64 \n",
            " 1   Title     10 non-null     object\n",
            " 2   Studio    10 non-null     object\n",
            " 3   Gross     10 non-null     object\n",
            " 4   Language  10 non-null     object\n",
            "dtypes: int64(1), object(4)\n",
            "memory usage: 528.0+ bytes\n"
          ],
          "name": "stdout"
        }
      ]
    },
    {
      "cell_type": "code",
      "metadata": {
        "id": "n9ALnPqrmf9I"
      },
      "source": [
        "df['Gross']=df[\"Gross\"].astype('int64')"
      ],
      "execution_count": null,
      "outputs": []
    },
    {
      "cell_type": "code",
      "metadata": {
        "colab": {
          "base_uri": "https://localhost:8080/"
        },
        "id": "PtE-_FKMdbLx",
        "outputId": "70cfbb48-7b9d-4dd2-f239-4545cf0e47e1"
      },
      "source": [
        "df.info()"
      ],
      "execution_count": null,
      "outputs": [
        {
          "output_type": "stream",
          "text": [
            "<class 'pandas.core.frame.DataFrame'>\n",
            "RangeIndex: 10 entries, 0 to 9\n",
            "Data columns (total 5 columns):\n",
            " #   Column    Non-Null Count  Dtype \n",
            "---  ------    --------------  ----- \n",
            " 0   Rank      10 non-null     int64 \n",
            " 1   Title     10 non-null     object\n",
            " 2   Studio    10 non-null     object\n",
            " 3   Gross     10 non-null     int64 \n",
            " 4   Language  10 non-null     object\n",
            "dtypes: int64(2), object(3)\n",
            "memory usage: 528.0+ bytes\n"
          ],
          "name": "stdout"
        }
      ]
    },
    {
      "cell_type": "code",
      "metadata": {
        "id": "OYQ0nRCndlaa"
      },
      "source": [
        "Gross=df['Gross']"
      ],
      "execution_count": null,
      "outputs": []
    },
    {
      "cell_type": "markdown",
      "metadata": {
        "id": "EhoqEQFieifJ"
      },
      "source": [
        "# **Тестовый набор данных**"
      ]
    },
    {
      "cell_type": "code",
      "metadata": {
        "id": "3Ru17CYfemJv"
      },
      "source": [
        "from numpy import mean\n",
        "from numpy import std"
      ],
      "execution_count": null,
      "outputs": []
    },
    {
      "cell_type": "code",
      "metadata": {
        "colab": {
          "base_uri": "https://localhost:8080/"
        },
        "id": "vvLL6Mkme32t",
        "outputId": "97d88e31-d562-438a-f0f2-84313f46c05f"
      },
      "source": [
        "print('mean=%.3f std=%.3f' % (mean(Gross), std(Gross)))"
      ],
      "execution_count": null,
      "outputs": [
        {
          "output_type": "stream",
          "text": [
            "mean=326.300 std=91.018\n"
          ],
          "name": "stdout"
        }
      ]
    },
    {
      "cell_type": "markdown",
      "metadata": {
        "id": "igWUFlMF7Jv8"
      },
      "source": [
        "# **Визуальные проверки нормальности**"
      ]
    },
    {
      "cell_type": "code",
      "metadata": {
        "colab": {
          "base_uri": "https://localhost:8080/",
          "height": 265
        },
        "id": "XkdKX_GK7NP0",
        "outputId": "26698d42-67e3-41e3-e4af-6401b9308e5b"
      },
      "source": [
        "pyplot.hist(Gross)\n",
        "pyplot.show()"
      ],
      "execution_count": null,
      "outputs": [
        {
          "output_type": "display_data",
          "data": {
            "image/png": "[encoded data removed]",
            "text/plain": [
              "<Figure size 432x288 with 1 Axes>"
            ]
          },
          "metadata": {
            "tags": [],
            "needs_background": "light"
          }
        }
      ]
    },
    {
      "cell_type": "code",
      "metadata": {
        "colab": {
          "base_uri": "https://localhost:8080/",
          "height": 313
        },
        "id": "EyWNfVB38rjp",
        "outputId": "f6ffd458-5cbd-4065-e606-27b6cd03a99d"
      },
      "source": [
        "#QQ plot\n",
        "from numpy.random import seed\n",
        "from numpy.random import randn\n",
        "from statsmodels.graphics.gofplots import qqplot\n",
        "\n",
        "qqplot(Gross, line='s')\n",
        "pyplot.show()"
      ],
      "execution_count": null,
      "outputs": [
        {
          "output_type": "stream",
          "text": [
            "/usr/local/lib/python3.7/dist-packages/statsmodels/tools/_testing.py:19: FutureWarning: pandas.util.testing is deprecated. Use the functions in the public API at pandas.testing instead.\n",
            "  import pandas.util.testing as tm\n"
          ],
          "name": "stderr"
        },
        {
          "output_type": "display_data",
          "data": {
            "image/png": "[encoded data removed]",
            "text/plain": [
              "<Figure size 432x288 with 1 Axes>"
            ]
          },
          "metadata": {
            "tags": [],
            "needs_background": "light"
          }
        }
      ]
    },
    {
      "cell_type": "markdown",
      "metadata": {
        "id": "4Xh4s7kL94te"
      },
      "source": [
        "# **Статистические тесты нормальности данных**"
      ]
    },
    {
      "cell_type": "markdown",
      "metadata": {
        "id": "me_NZ7WI-ClR"
      },
      "source": [
        "**Тест Шапиро-Вилка**"
      ]
    },
    {
      "cell_type": "code",
      "metadata": {
        "colab": {
          "base_uri": "https://localhost:8080/"
        },
        "id": "XIBgdePL-RIi",
        "outputId": "27695dfc-712d-46e3-e1fc-6ddae6b7eefd"
      },
      "source": [
        "#Shapiro-Wilk Test\n",
        "from scipy.stats import shapiro\n",
        "\n",
        "stat, p = shapiro(Gross)\n",
        "print('Statistics=%.3f, p=%.3f' % (stat, p))\n",
        "alpha=0.05\n",
        "if p>alpha:\n",
        "  print('Sample looks Gaussian (fail to reject H0)')\n",
        "else:\n",
        "  print('Sample does not Gaussian (reject H0)')"
      ],
      "execution_count": 45,
      "outputs": [
        {
          "output_type": "stream",
          "text": [
            "Statistics=0.989, p=0.573\n",
            "Sample looks Gaussian (fail to reject H0)\n"
          ],
          "name": "stdout"
        }
      ]
    },
    {
      "cell_type": "markdown",
      "metadata": {
        "id": "ISoiZpE6_c6P"
      },
      "source": [
        "**Тест д'Агостино на K ^ 2**"
      ]
    },
    {
      "cell_type": "code",
      "metadata": {
        "colab": {
          "base_uri": "https://localhost:8080/"
        },
        "id": "lLiZ34aE_gFF",
        "outputId": "5b243c56-fb81-4a01-aaf0-9f1a26e709e7"
      },
      "source": [
        "#D'Agostino and Pearson's Test\n",
        "from scipy.stats import normaltest\n",
        "\n",
        "stat, p = normaltest(Gross)\n",
        "print('Statistics=%.3f, p=%.3f' % (stat, p))\n",
        "alpha=0.05\n",
        "if p>alpha:\n",
        "  print('Sample looks Gaussian (fail to reject H0)')\n",
        "else:\n",
        "  print('Sample does not Gaussian (reject H0)')\n"
      ],
      "execution_count": 46,
      "outputs": [
        {
          "output_type": "stream",
          "text": [
            "Statistics=0.912, p=0.634\n",
            "Sample looks Gaussian (fail to reject H0)\n"
          ],
          "name": "stdout"
        }
      ]
    },
    {
      "cell_type": "markdown",
      "metadata": {
        "id": "CmgVQ1jwDNPd"
      },
      "source": [
        "**Тест Андерсона-Дарлинга**"
      ]
    },
    {
      "cell_type": "code",
      "metadata": {
        "colab": {
          "base_uri": "https://localhost:8080/"
        },
        "id": "zgpv1zHdDPTd",
        "outputId": "6e84e86f-d843-47b4-a543-ecf7f62bc963"
      },
      "source": [
        "#Anderson-Darling Test\n",
        "from scipy.stats import anderson\n",
        "\n",
        "result = anderson(Gross)\n",
        "print('Statistics: %.3f' % result.statistic)\n",
        "p=0\n",
        "for i in range(len(result.critical_values)):\n",
        "  sl, cv = result.significance_level[i], result.critical_values[i]\n",
        "  if result.statistic < result.critical_values[i]:\n",
        "    print('%.3f: %.3f, data looks normal (fail to reject H0)' % (sl,cv))\n",
        "  else:\n",
        "    print('%.3f: %.3f, data does not look normal (reject H0)' % (sl,cv))\n"
      ],
      "execution_count": 52,
      "outputs": [
        {
          "output_type": "stream",
          "text": [
            "Statistics: 0.363\n",
            "15.000: 0.555, data looks normal (fail to reject H0)\n",
            "10.000: 0.632, data looks normal (fail to reject H0)\n",
            "5.000: 0.759, data looks normal (fail to reject H0)\n",
            "2.500: 0.885, data looks normal (fail to reject H0)\n",
            "1.000: 1.053, data looks normal (fail to reject H0)\n"
          ],
          "name": "stdout"
        }
      ]
    },
    {
      "cell_type": "markdown",
      "metadata": {
        "id": "orSkxpELkbHA"
      },
      "source": [
        "# **Итог**"
      ]
    },
    {
      "cell_type": "markdown",
      "metadata": {
        "id": "JU_fM9OHkXRD"
      },
      "source": [
        "![image.png](data:image/png;base64,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)"
      ]
    }
  ]
}