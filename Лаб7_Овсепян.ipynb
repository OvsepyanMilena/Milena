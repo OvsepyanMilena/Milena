{
  "nbformat": 4,
  "nbformat_minor": 0,
  "metadata": {
    "colab": {
      "name": "Лаб7_Овсепян",
      "provenance": []
    },
    "kernelspec": {
      "name": "python3",
      "display_name": "Python 3"
    }
  },
  "cells": [
    {
      "cell_type": "markdown",
      "metadata": {
        "id": "5ZofGFLJ8aj9"
      },
      "source": [
        "# Лабораторная работа №7"
      ]
    },
    {
      "cell_type": "markdown",
      "metadata": {
        "id": "1SbMWWs18iEf"
      },
      "source": [
        "\r\n",
        "Для задач 7.2.1-7.2.5 приведено условие задачи и ее решение (ошибочное).\r\n",
        "\r\n",
        "Для каждой задачи:\r\n",
        "\r\n",
        "используя визуальный просмотр кода, простое журналирование, проверку PEP8 или отладчик в IDE:\r\n",
        "\r\n",
        "разберитесь в алгоритме решения;\r\n",
        "\r\n",
        "найдите номера строк, в которых есть ошибки, и укажите их в строке документации;\r\n",
        "\r\n",
        "исправьте ошибки, минимально изменив код (как правило, заменив строчку на строчку); ошибки исправляются по ходу программы, сверху вниз."
      ]
    },
    {
      "cell_type": "code",
      "metadata": {
        "id": "ffJdShrjptR8",
        "colab": {
          "base_uri": "https://localhost:8080/"
        },
        "outputId": "f1a18f58-f410-416c-d8aa-288e30d0c18d"
      },
      "source": [
        "# Программирование на языке высокого уровня (Python).\r\n",
        "# https://www.yuripetrov.ru/edu/python\r\n",
        "# Задание task_07_02_01.\r\n",
        "#\r\n",
        "# Выполнил: Овсепян\r\n",
        "# Группа: АДЭУ-201\r\n",
        "# E-mail: !!!\r\n",
        "\r\n",
        "\"\"\"\r\n",
        "Ошибки (номера строк через пробел, данная строка - №2): !!!\r\n",
        "\"\"\"\r\n",
        "\r\n",
        "\r\n",
        "def sum_of_digits(n):\r\n",
        "    \"\"\"Вернуть сумму цифр меньших 5 для положительного целого числа `n`.\r\n",
        "    Если таких цифр нет, вернуть 0.\"\"\"\r\n",
        "    c=0\r\n",
        "    while n > 0:\r\n",
        "        digit = n % 10\r\n",
        "        if digit < 5:\r\n",
        "           c += digit\r\n",
        "        n //= 10\r\n",
        "    return c \r\n",
        "\r\n",
        "sum_of_digits(463)"
      ],
      "execution_count": 1,
      "outputs": [
        {
          "output_type": "execute_result",
          "data": {
            "text/plain": [
              "7"
            ]
          },
          "metadata": {
            "tags": []
          },
          "execution_count": 1
        }
      ]
    },
    {
      "cell_type": "code",
      "metadata": {
        "colab": {
          "base_uri": "https://localhost:8080/"
        },
        "id": "DP0zM1HU-GTh",
        "outputId": "de76baab-194a-4902-e49e-7bd7df30c7d1"
      },
      "source": [
        "# Программирование на языке высокого уровня (Python).\r\n",
        "# https://www.yuripetrov.ru/edu/python\r\n",
        "# Задание task_07_02_02.\r\n",
        "#\r\n",
        "# Выполнил: Овсепян\r\n",
        "# Группа: АДЭУ-201\r\n",
        "# E-mail: !!!\r\n",
        "\r\n",
        "\r\n",
        "\"\"\"\r\n",
        "Ошибки (номера строк через пробел, данная строка - №2): !!!\r\n",
        "\"\"\"\r\n",
        "\r\n",
        "\r\n",
        "def primes(a, b):\r\n",
        "    \"\"\"Вернуть список простых чисел на отрезке от 'a' до 'b'.\"\"\"\r\n",
        "    res = []\r\n",
        "    c = 0\r\n",
        "    for i in range(a, b+1):\r\n",
        "        for j in range(i+1):\r\n",
        "            if i %(j+1)  == 0:\r\n",
        "                c += 1\r\n",
        "            \r\n",
        "        if c == 2: \r\n",
        "               res.append(i)\r\n",
        "               c=0\r\n",
        "        else:\r\n",
        "          c=0  \r\n",
        "\r\n",
        "    return res\r\n",
        "primes(15,21)"
      ],
      "execution_count": 2,
      "outputs": [
        {
          "output_type": "execute_result",
          "data": {
            "text/plain": [
              "[17, 19]"
            ]
          },
          "metadata": {
            "tags": []
          },
          "execution_count": 2
        }
      ]
    },
    {
      "cell_type": "code",
      "metadata": {
        "colab": {
          "base_uri": "https://localhost:8080/"
        },
        "id": "rCqc5ncZ-XWP",
        "outputId": "7c04d3aa-b0f0-4230-b989-ed867302743c"
      },
      "source": [
        "# Программирование на языке высокого уровня (Python).\r\n",
        "# https://www.yuripetrov.ru/edu/python\r\n",
        "# Задание task_07_02_03.\r\n",
        "#\r\n",
        "# Выполнил: Овсепян\r\n",
        "# Группа: АДЭУ-201\r\n",
        "# E-mail: !!!\r\n",
        "\r\n",
        "\r\n",
        "\"\"\"\r\n",
        "Ошибки (номера строк через пробел, данная строка - №2): !!!\r\n",
        "\"\"\"\r\n",
        "\r\n",
        "\r\n",
        "def first_vacant_row(seats):\r\n",
        "    max_count = 0\r\n",
        "    max_row = 0\r\n",
        "    for row_index, row in enumerate(seats):\r\n",
        "        available_seats_count = row.count(0)  \r\n",
        "        if available_seats_count > max_count:\r\n",
        "            max_row = row_index +1\r\n",
        "            max_count = available_seats_count\r\n",
        "        else:\r\n",
        "          pass\r\n",
        "    return max_row, max_count\r\n",
        "\r\n",
        "import random\r\n",
        "\r\n",
        "random.seed(50)\r\n",
        "\r\n",
        "ROWS_MAX = 10\r\n",
        "SEATS_MAX = 5\r\n",
        "\r\n",
        "seats = [[random.randint(0, 1) for seat in range(SEATS_MAX)]\r\n",
        "                                for row in range(ROWS_MAX)]\r\n",
        "\r\n",
        "for seat in seats:\r\n",
        "   print(seat)\r\n",
        "print(first_vacant_row(seats))"
      ],
      "execution_count": 3,
      "outputs": [
        {
          "output_type": "stream",
          "text": [
            "[1, 1, 1, 0, 1]\n",
            "[1, 0, 1, 0, 0]\n",
            "[0, 1, 0, 1, 1]\n",
            "[0, 0, 0, 1, 1]\n",
            "[0, 0, 1, 1, 0]\n",
            "[0, 1, 1, 1, 0]\n",
            "[0, 1, 1, 1, 0]\n",
            "[1, 0, 0, 1, 0]\n",
            "[1, 1, 0, 1, 1]\n",
            "[0, 1, 0, 0, 1]\n",
            "(2, 3)\n"
          ],
          "name": "stdout"
        }
      ]
    },
    {
      "cell_type": "code",
      "metadata": {
        "colab": {
          "base_uri": "https://localhost:8080/"
        },
        "id": "kQxwSpnm_Fa6",
        "outputId": "69983bec-8d4e-4bb4-b6f7-606a86f39dd8"
      },
      "source": [
        "# Программирование на языке высокого уровня (Python).\r\n",
        "# https://www.yuripetrov.ru/edu/python\r\n",
        "# Задание task_07_02_04.\r\n",
        "#\r\n",
        "# Выполнил: Овсепян\r\n",
        "# Группа: АДЭУ-201\r\n",
        "# E-mail: !!!\r\n",
        "\r\n",
        "\r\n",
        "\"\"\"\r\n",
        "Ошибки (номера строк через пробел, данная строка - №2): !!!\r\n",
        "\"\"\"\r\n",
        "\r\n",
        "\r\n",
        "def min_pair(nums):\r\n",
        "    \"\"\"Вернуть минимальную сумму соседних 2-х чисел в списке 'nums'.\"\"\"\r\n",
        "    mun = nums[0] + nums[1]\r\n",
        "    b=len(nums)\r\n",
        "    for i in range(2, b-1): #i+1 выходило за пределы списка, поэтому указала длину -1\r\n",
        "        mun = min(nums[i] + nums[i+1], mun)#было несколько переменных обозначенных min, переименовала\r\n",
        "    return mun\r\n",
        "import random\r\n",
        "\r\n",
        "random.seed(50)\r\n",
        "\r\n",
        "N_MAX = 10\r\n",
        "RANGE_MIN = 1\r\n",
        "RANGE_MAX = 100\r\n",
        "nums = random.sample(range(RANGE_MIN, RANGE_MAX), N_MAX)\r\n",
        "print(nums)\r\n",
        "print(min_pair(nums))\r\n"
      ],
      "execution_count": 8,
      "outputs": [
        {
          "output_type": "stream",
          "text": [
            "[64, 35, 47, 82, 32, 89, 61, 99, 43, 11]\n",
            "54\n"
          ],
          "name": "stdout"
        }
      ]
    },
    {
      "cell_type": "markdown",
      "metadata": {
        "id": "GSxz1gUh-wBH"
      },
      "source": [
        "# 7.2.2. Обработка исключений и утверждения\r\n",
        "Программы 7.2.6-7.2.11 написаны верно, однако содержат места потенциальных ошибок.\r\n",
        "\r\n",
        "Для каждой задачи:\r\n",
        "\r\n",
        "найдите потенциальные источники ошибок (укажите номера строк в строке документации);\r\n",
        "\r\n",
        "используя конструкцию try добавьте в код обработку соответствующих исключений."
      ]
    },
    {
      "cell_type": "code",
      "metadata": {
        "colab": {
          "base_uri": "https://localhost:8080/"
        },
        "id": "zF2jcCug-0i7",
        "outputId": "8dfcc6c8-ddf4-4ceb-d807-4a72530bbb3b"
      },
      "source": [
        "# Программирование на языке высокого уровня (Python).\r\n",
        "# https://www.yuripetrov.ru/edu/python\r\n",
        "# Задание task_07_02_06.\r\n",
        "#\r\n",
        "# Выполнил: Овсепян\r\n",
        "# Группа: АДЭУ-201\r\n",
        "# E-mail: !!!\r\n",
        "\r\n",
        "\r\n",
        "\"\"\"\r\n",
        "Ошибки (номера строк через пробел, данная строка - №2): !!!\r\n",
        "\"\"\"\r\n",
        "\r\n",
        "\r\n",
        "def unemployment_rate(unemployed, employed):\r\n",
        "    \"\"\"Вернуть уровень безработицы (УБ) в долях 1.\r\n",
        "\r\n",
        "       Расчет по формуле: УБ = Безработные / (Занятые + Безработные).\r\n",
        "    \"\"\"\r\n",
        "    if unemployed > 0 and employed>0:\r\n",
        "      return unemployed / (unemployed + employed)\r\n",
        "    else:\r\n",
        "      raise ValueError('невозможно вычислить уровень безработицы. введите положительные числа')\r\n",
        "\r\n",
        "try:\r\n",
        "  unemployed = int(input(\"Введите кол-во безработных (чел.): \"))\r\n",
        "  employed = int(input(\"Введите кол-во занятых (чел.): \"))\r\n",
        "  rate = unemployment_rate(unemployed, employed)\r\n",
        "  print(\"Уровень безработицы = {:.1%}\".format(rate))\r\n",
        "except ValueError as err:\r\n",
        "    print(\"Ошибка:\", err)\r\n",
        "except Exception as err:\r\n",
        "    print(\"Ошибка:\", err)\r\n"
      ],
      "execution_count": 4,
      "outputs": [
        {
          "output_type": "stream",
          "text": [
            "Введите кол-во безработных (чел.): 8\n",
            "Введите кол-во занятых (чел.): 6\n",
            "Уровень безработицы = 57.1%\n"
          ],
          "name": "stdout"
        }
      ]
    }
  ]
}