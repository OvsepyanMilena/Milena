{
  "nbformat": 4,
  "nbformat_minor": 0,
  "metadata": {
    "colab": {
      "name": "практическая1",
      "provenance": []
    },
    "kernelspec": {
      "name": "python3",
      "display_name": "Python 3"
    }
  },
  "cells": [
    {
      "cell_type": "markdown",
      "metadata": {
        "id": "F1Hx7W4nPgRS"
      },
      "source": [
        "# Практическая работа"
      ]
    },
    {
      "cell_type": "code",
      "metadata": {
        "id": "I66AZj4HLuwj",
        "colab": {
          "base_uri": "https://localhost:8080/",
          "height": 68
        },
        "outputId": "4fb3dab6-ae26-4920-8fda-23e5deed8c1c"
      },
      "source": [
        "class Human:\n",
        "  def __init__(self, name, age, iq):\n",
        "    self.name = name\n",
        "    self.age = age\n",
        "    if self.age < 0:\n",
        "      print('Oops,necromancer detected =)')\n",
        "    self.iq = iq\n",
        "\n",
        "Human1=Human('Alex',16,57) #создали экземпляр класса\n",
        "print(Human1.name, Human1.age, Human1.iq) #вывод свойств экземплярa класса\n",
        "\n",
        "Human2=Human('Milena',-5,60)\n",
        "print(Human2.name, Human2.age, Human2.iq)\n"
      ],
      "execution_count": null,
      "outputs": [
        {
          "output_type": "stream",
          "text": [
            "Alex 16 57\n",
            "Oops,necromancer detected =)\n",
            "Milena -5 60\n"
          ],
          "name": "stdout"
        }
      ]
    },
    {
      "cell_type": "code",
      "metadata": {
        "id": "p-Yiv6xURCWq",
        "colab": {
          "base_uri": "https://localhost:8080/"
        },
        "outputId": "90278ee9-cbce-4ab5-dd6d-ab0c315257a4"
      },
      "source": [
        "class Point:\n",
        "  amount = 0\n",
        "\n",
        "  def __init__(self, *args):\n",
        "    if len(args) == 2:\n",
        "      self.x = args[0]\n",
        "      self.y = args[1]\n",
        "\n",
        "    else:\n",
        "      self.x = self.y = 0\n",
        "    Point.amount +=1\n",
        "\n",
        "  def __del__(self):\n",
        "    Point.amount -= 1\n",
        "\n",
        "  def distance(self):\n",
        "    return (self.x ** 2 + self.y ** 2) ** 0.5\n",
        "\n",
        "  def __str__(self):\n",
        "    return '({}; {})'.format(self.x, self.y)\n",
        "\n",
        "p = Point(36, 42)\n",
        "print(p)\n",
        "\n",
        "\n",
        "print(round(p.distance(), 2))"
      ],
      "execution_count": 1,
      "outputs": [
        {
          "output_type": "stream",
          "text": [
            "(36; 42)\n",
            "55.32\n"
          ],
          "name": "stdout"
        }
      ]
    },
    {
      "cell_type": "code",
      "metadata": {
        "id": "22GuJ1w3S5L2",
        "colab": {
          "base_uri": "https://localhost:8080/"
        },
        "outputId": "fbad3a03-d223-48bc-ea2c-975ee8469a57"
      },
      "source": [
        "from math import sqrt, pi\n",
        "class Circle:\n",
        "    def __init__(self, x, y, radius):\n",
        "        self.center = Point(x,y)\n",
        "        self.radius = radius\n",
        "        if self.radius < 0:\n",
        "            print(\"radius should be greater than 0\")\n",
        "    def  lencircle(self):\n",
        "        return 2 * pi * self.radius\n",
        " \n",
        "    def Square(self):\n",
        "        return pi* self.radius**2\n",
        " \n",
        "    def move (self,x,y):\n",
        "        self.center.x = x\n",
        "        self.center.y = y\n",
        " \n",
        "    def distance(self):\n",
        "        return sqrt(self.center.x**2 + self.center.y**2)\n",
        "  \n",
        "    def __str__(self):\n",
        "        if self.radius < 0:\n",
        "            return \"радиус должен быть больше 0\"\n",
        "        else:\n",
        "            return \"Circle: center: {}, radius: {}\" .format(self.center, self.radius)\n",
        " \n",
        "Circle1 = Circle(3,4,5) \n",
        "Circle2 = Circle(5, -5, -5)\n",
        " \n",
        "print('Длина окружности: ', round(Circle1.lencircle(), 2))\n",
        "print('Площадь окружности: ', round(Circle1.Square(), 2))\n",
        "print('Расстояние: ', round(Circle1.distance(), 2))\n",
        "Circle1.move(-20, 15)\n",
        "print('Расстояние после перемещения: ', round(Circle1.distance(), 2))\n",
        " \n",
        "print('Circle1:', Circle1)\n",
        "print('Circle2:', Circle2)\n"
      ],
      "execution_count": 2,
      "outputs": [
        {
          "output_type": "stream",
          "text": [
            "radius should be greater than 0\n",
            "Длина окружности:  31.42\n",
            "Площадь окружности:  78.54\n",
            "Расстояние:  5.0\n",
            "Расстояние после перемещения:  25.0\n",
            "Circle1: Circle: center: (-20; 15), radius: 5\n",
            "Circle2: радиус должен быть больше 0\n"
          ],
          "name": "stdout"
        }
      ]
    }
  ]
}