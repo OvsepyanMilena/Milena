{
  "nbformat": 4,
  "nbformat_minor": 0,
  "metadata": {
    "colab": {
      "name": "Лаб1_Овсепян ",
      "provenance": []
    },
    "kernelspec": {
      "name": "python3",
      "display_name": "Python 3"
    }
  },
  "cells": [
    {
      "cell_type": "markdown",
      "metadata": {
        "id": "ZzzfVjTMNAqT"
      },
      "source": [
        "# Вариант 12"
      ]
    },
    {
      "cell_type": "markdown",
      "metadata": {
        "id": "nXrOPeiZQnhW"
      },
      "source": [
        "![image.png](data:image/png;base64,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)"
      ]
    },
    {
      "cell_type": "code",
      "metadata": {
        "colab": {
          "base_uri": "https://localhost:8080/"
        },
        "id": "CBx4O-_7MDQF",
        "outputId": "166c35d5-1015-41a5-aa1a-132589944341"
      },
      "source": [
        "import numpy as np\r\n",
        "A = np.array([1.3, 2.6, 3.8])\r\n",
        "B = np.array([-4.5, -5.3, -6.1])\r\n",
        "\r\n",
        "Z=np.dot(A, B) \r\n",
        "\r\n",
        "round(Z, 2)\r\n"
      ],
      "execution_count": null,
      "outputs": [
        {
          "output_type": "execute_result",
          "data": {
            "text/plain": [
              "-42.81"
            ]
          },
          "metadata": {
            "tags": []
          },
          "execution_count": 33
        }
      ]
    },
    {
      "cell_type": "code",
      "metadata": {
        "id": "iUn4uBh3SjZu",
        "colab": {
          "base_uri": "https://localhost:8080/"
        },
        "outputId": "05fdf83a-e15b-48e1-ab41-dd7ac286e223"
      },
      "source": [
        "A = (1.3, 2.6, 3.8)\r\n",
        "B = (-4.5, -5.3, -6.1)\r\n",
        "\r\n",
        "def dotprooduct(A, B):\r\n",
        "  Z = sum([A[i]*B[i] for i in range(len(A))])\r\n",
        "\r\n",
        "round(Z, 2)"
      ],
      "execution_count": null,
      "outputs": [
        {
          "output_type": "execute_result",
          "data": {
            "text/plain": [
              "-42.81"
            ]
          },
          "metadata": {
            "tags": []
          },
          "execution_count": 35
        }
      ]
    },
    {
      "cell_type": "code",
      "metadata": {
        "colab": {
          "base_uri": "https://localhost:8080/"
        },
        "id": "-aJd_S73tm0_",
        "outputId": "583e4446-df4b-49a3-e2a9-35b5e3c29052"
      },
      "source": [
        "import timeit\r\n",
        "import numpy as np\r\n",
        "\r\n",
        "\r\n",
        "def python(Z):\r\n",
        "    Z = sum([A[i]*B[i] for i in range(len(A))])\r\n",
        "\r\n",
        "\r\n",
        "def numpy(Z):\r\n",
        "    Z = np.dot(A, B)\r\n",
        "\r\n",
        "if __name__ == '__main__':\r\n",
        "    # For smaller arrays\r\n",
        "    # print('Array size: 3*3')\r\n",
        "    start_time = timeit.default_timer()\r\n",
        "    A = (1.3, 2.6, 3.8)\r\n",
        "    B = (-4.5, -5.3, -6.1)\r\n",
        "    python_time_1 = timeit.default_timer() - start_time\r\n",
        "\r\n",
        "    start_time = timeit.default_timer()\r\n",
        "    A = (1.3, 2.6, 3.8)\r\n",
        "    B = (-4.5, -5.3, -6.1)\r\n",
        "    numpy_time_1 = timeit.default_timer() - start_time\r\n",
        "\r\n",
        "    # For large arrays\r\n",
        "    # print('Array size: 4*4')\r\n",
        "    start_time = timeit.default_timer()\r\n",
        "    A = (12, 8, 3, 8)\r\n",
        "    B = (-4, 8, -6, 9)\r\n",
        "    python_time_2 = timeit.default_timer() - start_time\r\n",
        "\r\n",
        "    start_time = timeit.default_timer()\r\n",
        "    A = (12, 8, 3, 8)\r\n",
        "    B = (-4, 8, -6, 9)\r\n",
        "    numpy_time_2 = timeit.default_timer() - start_time\r\n",
        "\r\n",
        "print('Array size: 3*3')\r\n",
        "print(f'size 3*3: python() время: {python_time_1}')\r\n",
        "print(f'size 3*3: numpy() время: {numpy_time_1}')\r\n",
        "\r\n",
        "print('Array size: 4*4')\r\n",
        "print(f'size 4*4: python() время: {python_time_2}')\r\n",
        "print(f'size 4*4: numpy() время: {numpy_time_2}')"
      ],
      "execution_count": 14,
      "outputs": [
        {
          "output_type": "stream",
          "text": [
            "Array size: 3*3\n",
            "size 3*3: python() время: 8.089991752058268e-07\n",
            "size 3*3: numpy() время: 2.4099972506519407e-07\n",
            "Array size: 4*4\n",
            "size 4*4: python() время: 1.6000012692529708e-07\n",
            "size 4*4: numpy() время: 1.5899968275334686e-07\n"
          ],
          "name": "stdout"
        }
      ]
    },
    {
      "cell_type": "markdown",
      "metadata": {
        "id": "mXFlRHQlZDi4"
      },
      "source": [
        "# **Вывод: NUMPY работает быстрее**"
      ]
    }
  ]
}